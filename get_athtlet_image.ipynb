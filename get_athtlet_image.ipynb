{
 "cells": [
  {
   "cell_type": "code",
   "execution_count": 1,
   "metadata": {},
   "outputs": [],
   "source": [
    "from selenium import webdriver\n",
    "from selenium.webdriver.common.keys import Keys\n",
    "from selenium.common.exceptions import NoSuchElementException\n",
    "from selenium.webdriver.common.by import By\n",
    "from selenium.webdriver.support.ui import WebDriverWait\n",
    "from selenium.webdriver.support import expected_conditions as EC\n",
    "from selenium.webdriver.chrome.options import Options\n",
    "from time import sleep\n",
    "import pandas as pd\n",
    "\n",
    "\n",
    "csv_atleta = 'C:/Users/user/Desktop/Desafio #05 Comunidade Data Driven/05-Olimpiadas/olympic_athletes.csv'\n",
    "\n",
    "arquivo_destino = 'C:/Users/user/Desktop/Desafio #05 Comunidade Data Driven/05-Olimpiadas/foto_atletas.csv'\n",
    "\n",
    "# habilitando opções para abrir o navegador sem erros, ingorar site inseguro e abrir usando um perfil logado\n",
    "chrome_options = Options()\n",
    "chrome_options.add_experimental_option(\"detach\", True)\n",
    "chrome_options.add_experimental_option(\"useAutomationExtension\", False)\n",
    "chrome_options.add_experimental_option(\"excludeSwitches\",[\"enable-automation\", 'enable-logging'])\n",
    "chrome_options.add_argument(\"--disable-blink-features=AutomationControlled\") \n",
    "chrome_options.add_argument('start-maximized')\n",
    "chrome_options.add_argument('--disable-infobars')\n",
    "chrome_options.add_argument('--ignore-certificate-errors')\n",
    "chrome_options.add_argument('--ignore-ssl-errors')\n",
    "chrome_options.add_argument('--ignore-certificate-errors-spki-list')\n",
    "chrome_options.add_argument('--no-sandbox')\n",
    "chrome_options.add_argument('--no-zygote')\n",
    "chrome_options.add_argument('--allow-running-insecure-content')\n",
    "chrome_options.add_argument('user-agent=Mozilla/5.0 (Windows NT 10.0; Win64; x64) AppleWebKit/537.36 (KHTML, like Gecko) Chrome/126.0.0.0 Safari/537.36')\n",
    "chrome_options.add_argument('--profile-directory=Default')\n",
    "chrome_options.add_argument(\"user-data-dir=C:/Users/user/AppData/Local/Google/Chrome/User Data\") "
   ]
  },
  {
   "cell_type": "code",
   "execution_count": 2,
   "metadata": {},
   "outputs": [],
   "source": [
    "def coletar_dados(list_url, atleta):\n",
    "    driver = webdriver.Chrome(options=chrome_options)\n",
    "    driver.implicitly_wait(0.5)\n",
    "    # driver.execute_script(\"Object.defineProperty(navigator, 'webdriver', {get: () => undefined})\") \n",
    "    \n",
    "    driver.get(atleta)\n",
    "    \n",
    "    try:\n",
    "        user = driver.find_element(By.XPATH, \"//*[@id=\\\"globalTracking\\\"]/div/section[1]/div[1]/div[1]/div/div/div/picture/img\").get_attribute('src')\n",
    "    \n",
    "        list_url.append(user)\n",
    "    \n",
    "    except NoSuchElementException:\n",
    "        list_url.append('')\n",
    "    \n",
    "    finally:\n",
    "        driver.quit()"
   ]
  },
  {
   "cell_type": "code",
   "execution_count": 3,
   "metadata": {},
   "outputs": [],
   "source": [
    "def salvar_fotos(list_url, list_atleta):\n",
    "    dicionario_notas = {\n",
    "        'atleta': list_atleta,\n",
    "        'foto':  list_url\n",
    "    }\n",
    "    \n",
    "    df = pd.DataFrame.from_dict(dicionario_notas)\n",
    "    df.to_csv(arquivo_destino, index=False)"
   ]
  },
  {
   "cell_type": "code",
   "execution_count": 4,
   "metadata": {},
   "outputs": [],
   "source": [
    "def ler_atletas():\n",
    "    lista_url = list()\n",
    "    lista_atleta = list()\n",
    "    \n",
    "    atletas = pd.read_csv(csv_atleta)\n",
    "    \n",
    "    i = 'https://olympics.com/en/athletes/matt-graham'\n",
    "    lista_atleta.append(i.strip())\n",
    "    coletar_dados(lista_url, i.strip())\n",
    "\n",
    "    # for i in atletas['athlete_url']:\n",
    "        # lista_atleta.append(i.strip())\n",
    "        # coletar_dados(lista_url, i.strip())\n",
    "        # sleep(0.5)\n",
    "            \n",
    "    salvar_fotos(lista_url, lista_atleta)"
   ]
  },
  {
   "cell_type": "code",
   "execution_count": 5,
   "metadata": {},
   "outputs": [],
   "source": [
    "ler_atletas()"
   ]
  }
 ],
 "metadata": {
  "kernelspec": {
   "display_name": "Python 3",
   "language": "python",
   "name": "python3"
  },
  "language_info": {
   "codemirror_mode": {
    "name": "ipython",
    "version": 3
   },
   "file_extension": ".py",
   "mimetype": "text/x-python",
   "name": "python",
   "nbconvert_exporter": "python",
   "pygments_lexer": "ipython3",
   "version": "3.10.6"
  }
 },
 "nbformat": 4,
 "nbformat_minor": 2
}
